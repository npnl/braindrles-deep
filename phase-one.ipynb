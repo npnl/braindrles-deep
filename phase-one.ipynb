{
 "cells": [
  {
   "cell_type": "code",
   "execution_count": 1,
   "metadata": {},
   "outputs": [],
   "source": [
    "import os\n",
    "import json\n",
    "import pandas as pd\n",
    "import numpy as np\n",
    "from collections import namedtuple\n",
    "import seaborn as sns\n",
    "import matplotlib.pyplot as plt\n",
    "sns.set(color_codes=True)"
   ]
  },
  {
   "cell_type": "code",
   "execution_count": 2,
   "metadata": {},
   "outputs": [],
   "source": [
    "Vote = namedtuple('Vote', 'response sample time user')\n",
    "LabeledSample = namedtuple('LabeledSample', 'sample truth')"
   ]
  },
  {
   "cell_type": "code",
   "execution_count": 3,
   "metadata": {},
   "outputs": [],
   "source": [
    "def readVotes():\n",
    "    filename = 'braindrles-votes-export.json'\n",
    "    path = os.path.join('data', filename)\n",
    "    with open(path) as reader:\n",
    "        votes = json.load(reader)\n",
    "    output = []\n",
    "    for _id in votes:\n",
    "        vote = votes[_id]\n",
    "        try:\n",
    "            output.append(Vote(**vote))\n",
    "        except Exception as e:\n",
    "            print(\"Unable to parse a vote json. Error: \", str(e))\n",
    "    return output"
   ]
  },
  {
   "cell_type": "code",
   "execution_count": 4,
   "metadata": {},
   "outputs": [],
   "source": [
    "def readGoldLabels():\n",
    "    filename = 'braindrles-sampleTruths-export.json'\n",
    "    path = os.path.join('data', filename)\n",
    "    with open(path) as reader:\n",
    "        samples = json.load(reader)\n",
    "    output = []\n",
    "    for sample_id in samples:\n",
    "        sample = LabeledSample(sample=sample_id, truth=samples[sample_id]['truth'])\n",
    "        output.append(sample)\n",
    "    return output\n"
   ]
  },
  {
   "cell_type": "code",
   "execution_count": 5,
   "metadata": {},
   "outputs": [
    {
     "name": "stdout",
     "output_type": "stream",
     "text": [
      "Unable to parse a vote json. Error:  __new__() missing 1 required positional argument: 'user'\n"
     ]
    }
   ],
   "source": [
    "labeled_data_raw = readGoldLabels()\n",
    "votes_raw = readVotes()"
   ]
  },
  {
   "cell_type": "code",
   "execution_count": 6,
   "metadata": {},
   "outputs": [],
   "source": [
    "votes = pd.DataFrame(votes_raw)\n",
    "labeled_data = pd.DataFrame(labeled_data_raw)"
   ]
  },
  {
   "cell_type": "code",
   "execution_count": 7,
   "metadata": {},
   "outputs": [
    {
     "data": {
      "text/html": [
       "<div>\n",
       "<style scoped>\n",
       "    .dataframe tbody tr th:only-of-type {\n",
       "        vertical-align: middle;\n",
       "    }\n",
       "\n",
       "    .dataframe tbody tr th {\n",
       "        vertical-align: top;\n",
       "    }\n",
       "\n",
       "    .dataframe thead th {\n",
       "        text-align: right;\n",
       "    }\n",
       "</style>\n",
       "<table border=\"1\" class=\"dataframe\">\n",
       "  <thead>\n",
       "    <tr style=\"text-align: right;\">\n",
       "      <th></th>\n",
       "      <th>sample</th>\n",
       "      <th>user</th>\n",
       "      <th>response</th>\n",
       "    </tr>\n",
       "  </thead>\n",
       "  <tbody>\n",
       "    <tr>\n",
       "      <td>0</td>\n",
       "      <td>gifbrles_031768</td>\n",
       "      <td>bookworm</td>\n",
       "      <td>1.000000</td>\n",
       "    </tr>\n",
       "    <tr>\n",
       "      <td>1</td>\n",
       "      <td>gifbrles_031769</td>\n",
       "      <td>EvieD</td>\n",
       "      <td>0.333333</td>\n",
       "    </tr>\n",
       "    <tr>\n",
       "      <td>2</td>\n",
       "      <td>gifbrles_031769</td>\n",
       "      <td>Linztogo</td>\n",
       "      <td>0.000000</td>\n",
       "    </tr>\n",
       "    <tr>\n",
       "      <td>3</td>\n",
       "      <td>gifbrles_031769</td>\n",
       "      <td>Regina Phalange</td>\n",
       "      <td>1.000000</td>\n",
       "    </tr>\n",
       "    <tr>\n",
       "      <td>4</td>\n",
       "      <td>gifbrles_031769</td>\n",
       "      <td>Tatiana</td>\n",
       "      <td>1.000000</td>\n",
       "    </tr>\n",
       "  </tbody>\n",
       "</table>\n",
       "</div>"
      ],
      "text/plain": [
       "            sample             user  response\n",
       "0  gifbrles_031768         bookworm  1.000000\n",
       "1  gifbrles_031769            EvieD  0.333333\n",
       "2  gifbrles_031769         Linztogo  0.000000\n",
       "3  gifbrles_031769  Regina Phalange  1.000000\n",
       "4  gifbrles_031769          Tatiana  1.000000"
      ]
     },
     "execution_count": 7,
     "metadata": {},
     "output_type": "execute_result"
    }
   ],
   "source": [
    "average_rating_by_user = votes.groupby(['sample', 'user']).apply(lambda x: x.mean()[['response']]).reset_index()\n",
    "average_rating_by_user.head()"
   ]
  },
  {
   "cell_type": "code",
   "execution_count": 8,
   "metadata": {},
   "outputs": [
    {
     "data": {
      "text/html": [
       "<div>\n",
       "<style scoped>\n",
       "    .dataframe tbody tr th:only-of-type {\n",
       "        vertical-align: middle;\n",
       "    }\n",
       "\n",
       "    .dataframe tbody tr th {\n",
       "        vertical-align: top;\n",
       "    }\n",
       "\n",
       "    .dataframe thead th {\n",
       "        text-align: right;\n",
       "    }\n",
       "</style>\n",
       "<table border=\"1\" class=\"dataframe\">\n",
       "  <thead>\n",
       "    <tr style=\"text-align: right;\">\n",
       "      <th></th>\n",
       "      <th>sample</th>\n",
       "      <th>response</th>\n",
       "    </tr>\n",
       "  </thead>\n",
       "  <tbody>\n",
       "    <tr>\n",
       "      <td>0</td>\n",
       "      <td>gifbrles_031768</td>\n",
       "      <td>1.000000</td>\n",
       "    </tr>\n",
       "    <tr>\n",
       "      <td>1</td>\n",
       "      <td>gifbrles_031769</td>\n",
       "      <td>0.448718</td>\n",
       "    </tr>\n",
       "    <tr>\n",
       "      <td>2</td>\n",
       "      <td>gifbrles_031770</td>\n",
       "      <td>0.933333</td>\n",
       "    </tr>\n",
       "    <tr>\n",
       "      <td>3</td>\n",
       "      <td>gifbrles_031771</td>\n",
       "      <td>1.000000</td>\n",
       "    </tr>\n",
       "    <tr>\n",
       "      <td>4</td>\n",
       "      <td>gifbrles_031772</td>\n",
       "      <td>0.872727</td>\n",
       "    </tr>\n",
       "  </tbody>\n",
       "</table>\n",
       "</div>"
      ],
      "text/plain": [
       "            sample  response\n",
       "0  gifbrles_031768  1.000000\n",
       "1  gifbrles_031769  0.448718\n",
       "2  gifbrles_031770  0.933333\n",
       "3  gifbrles_031771  1.000000\n",
       "4  gifbrles_031772  0.872727"
      ]
     },
     "execution_count": 8,
     "metadata": {},
     "output_type": "execute_result"
    }
   ],
   "source": [
    "average_rating_of_image = average_rating_by_user.groupby(['sample']).apply(lambda x: x.mean()[['response']]).reset_index()\n",
    "average_rating_of_image.head()"
   ]
  },
  {
   "cell_type": "code",
   "execution_count": 9,
   "metadata": {},
   "outputs": [
    {
     "data": {
      "text/html": [
       "<div>\n",
       "<style scoped>\n",
       "    .dataframe tbody tr th:only-of-type {\n",
       "        vertical-align: middle;\n",
       "    }\n",
       "\n",
       "    .dataframe tbody tr th {\n",
       "        vertical-align: top;\n",
       "    }\n",
       "\n",
       "    .dataframe thead th {\n",
       "        text-align: right;\n",
       "    }\n",
       "</style>\n",
       "<table border=\"1\" class=\"dataframe\">\n",
       "  <thead>\n",
       "    <tr style=\"text-align: right;\">\n",
       "      <th></th>\n",
       "      <th>sample</th>\n",
       "      <th>count_of_users</th>\n",
       "    </tr>\n",
       "  </thead>\n",
       "  <tbody>\n",
       "    <tr>\n",
       "      <td>0</td>\n",
       "      <td>gifbrles_031768</td>\n",
       "      <td>1</td>\n",
       "    </tr>\n",
       "    <tr>\n",
       "      <td>1</td>\n",
       "      <td>gifbrles_031769</td>\n",
       "      <td>13</td>\n",
       "    </tr>\n",
       "    <tr>\n",
       "      <td>2</td>\n",
       "      <td>gifbrles_031770</td>\n",
       "      <td>5</td>\n",
       "    </tr>\n",
       "    <tr>\n",
       "      <td>3</td>\n",
       "      <td>gifbrles_031771</td>\n",
       "      <td>5</td>\n",
       "    </tr>\n",
       "    <tr>\n",
       "      <td>4</td>\n",
       "      <td>gifbrles_031772</td>\n",
       "      <td>11</td>\n",
       "    </tr>\n",
       "  </tbody>\n",
       "</table>\n",
       "</div>"
      ],
      "text/plain": [
       "            sample  count_of_users\n",
       "0  gifbrles_031768               1\n",
       "1  gifbrles_031769              13\n",
       "2  gifbrles_031770               5\n",
       "3  gifbrles_031771               5\n",
       "4  gifbrles_031772              11"
      ]
     },
     "execution_count": 9,
     "metadata": {},
     "output_type": "execute_result"
    }
   ],
   "source": [
    "count_of_users_rated_each_image = average_rating_by_user.groupby(['sample']).apply(lambda x: x.count()[['response']]).reset_index()\n",
    "count_of_users_rated_each_image.rename(columns={'response': 'count_of_users'}, inplace=True)\n",
    "count_of_users_rated_each_image.head()"
   ]
  },
  {
   "cell_type": "code",
   "execution_count": 10,
   "metadata": {},
   "outputs": [
    {
     "data": {
      "text/html": [
       "<div>\n",
       "<style scoped>\n",
       "    .dataframe tbody tr th:only-of-type {\n",
       "        vertical-align: middle;\n",
       "    }\n",
       "\n",
       "    .dataframe tbody tr th {\n",
       "        vertical-align: top;\n",
       "    }\n",
       "\n",
       "    .dataframe thead th {\n",
       "        text-align: right;\n",
       "    }\n",
       "</style>\n",
       "<table border=\"1\" class=\"dataframe\">\n",
       "  <thead>\n",
       "    <tr style=\"text-align: right;\">\n",
       "      <th></th>\n",
       "      <th>count_of_users</th>\n",
       "    </tr>\n",
       "  </thead>\n",
       "  <tbody>\n",
       "    <tr>\n",
       "      <td>count</td>\n",
       "      <td>1301.000000</td>\n",
       "    </tr>\n",
       "    <tr>\n",
       "      <td>mean</td>\n",
       "      <td>4.349731</td>\n",
       "    </tr>\n",
       "    <tr>\n",
       "      <td>std</td>\n",
       "      <td>2.778748</td>\n",
       "    </tr>\n",
       "    <tr>\n",
       "      <td>min</td>\n",
       "      <td>1.000000</td>\n",
       "    </tr>\n",
       "    <tr>\n",
       "      <td>25%</td>\n",
       "      <td>2.000000</td>\n",
       "    </tr>\n",
       "    <tr>\n",
       "      <td>50%</td>\n",
       "      <td>3.000000</td>\n",
       "    </tr>\n",
       "    <tr>\n",
       "      <td>75%</td>\n",
       "      <td>5.000000</td>\n",
       "    </tr>\n",
       "    <tr>\n",
       "      <td>max</td>\n",
       "      <td>16.000000</td>\n",
       "    </tr>\n",
       "  </tbody>\n",
       "</table>\n",
       "</div>"
      ],
      "text/plain": [
       "       count_of_users\n",
       "count     1301.000000\n",
       "mean         4.349731\n",
       "std          2.778748\n",
       "min          1.000000\n",
       "25%          2.000000\n",
       "50%          3.000000\n",
       "75%          5.000000\n",
       "max         16.000000"
      ]
     },
     "execution_count": 10,
     "metadata": {},
     "output_type": "execute_result"
    }
   ],
   "source": [
    "count_of_users_rated_each_image.describe()"
   ]
  },
  {
   "cell_type": "code",
   "execution_count": 11,
   "metadata": {},
   "outputs": [
    {
     "name": "stderr",
     "output_type": "stream",
     "text": [
      "/usr/local/lib/python3.7/site-packages/pandas/core/indexing.py:376: SettingWithCopyWarning: \n",
      "A value is trying to be set on a copy of a slice from a DataFrame.\n",
      "Try using .loc[row_indexer,col_indexer] = value instead\n",
      "\n",
      "See the caveats in the documentation: http://pandas.pydata.org/pandas-docs/stable/user_guide/indexing.html#returning-a-view-versus-a-copy\n",
      "  self.obj[key] = _infer_fill_value(value)\n",
      "/usr/local/lib/python3.7/site-packages/pandas/core/indexing.py:494: SettingWithCopyWarning: \n",
      "A value is trying to be set on a copy of a slice from a DataFrame.\n",
      "Try using .loc[row_indexer,col_indexer] = value instead\n",
      "\n",
      "See the caveats in the documentation: http://pandas.pydata.org/pandas-docs/stable/user_guide/indexing.html#returning-a-view-versus-a-copy\n",
      "  self.obj[item] = s\n"
     ]
    }
   ],
   "source": [
    "positive_subject_names = labeled_data[labeled_data.truth == 1]['sample'].values\n",
    "negative_subject_names = labeled_data[labeled_data.truth == 0]['sample'].values\n",
    "\n",
    "average_rating_by_user_with_pos_true_label = average_rating_by_user[average_rating_by_user['sample'].isin(positive_subject_names)]\n",
    "average_rating_by_user_with_neg_true_label = average_rating_by_user[average_rating_by_user['sample'].isin(negative_subject_names)]\n",
    "\n",
    "average_rating_by_user_with_pos_true_label.loc[:,'truth'] = 1\n",
    "average_rating_by_user_with_neg_true_label.loc[:,'truth'] = 0\n",
    "\n",
    "data_with_true_labels = average_rating_by_user_with_pos_true_label.append(average_rating_by_user_with_neg_true_label, ignore_index = True)"
   ]
  },
  {
   "cell_type": "markdown",
   "metadata": {},
   "source": [
    "## Pre-processed data form\n",
    "`data_with_true_labels` is a dataframe which contains the average rating of a user for a particular image and along with the true label in each row. Use this dataframe for all tasks."
   ]
  },
  {
   "cell_type": "code",
   "execution_count": 12,
   "metadata": {},
   "outputs": [
    {
     "data": {
      "text/html": [
       "<div>\n",
       "<style scoped>\n",
       "    .dataframe tbody tr th:only-of-type {\n",
       "        vertical-align: middle;\n",
       "    }\n",
       "\n",
       "    .dataframe tbody tr th {\n",
       "        vertical-align: top;\n",
       "    }\n",
       "\n",
       "    .dataframe thead th {\n",
       "        text-align: right;\n",
       "    }\n",
       "</style>\n",
       "<table border=\"1\" class=\"dataframe\">\n",
       "  <thead>\n",
       "    <tr style=\"text-align: right;\">\n",
       "      <th></th>\n",
       "      <th>sample</th>\n",
       "      <th>user</th>\n",
       "      <th>response</th>\n",
       "      <th>truth</th>\n",
       "    </tr>\n",
       "  </thead>\n",
       "  <tbody>\n",
       "    <tr>\n",
       "      <td>0</td>\n",
       "      <td>gifbrles_031772</td>\n",
       "      <td>Franky</td>\n",
       "      <td>1.0</td>\n",
       "      <td>1</td>\n",
       "    </tr>\n",
       "    <tr>\n",
       "      <td>1</td>\n",
       "      <td>gifbrles_031772</td>\n",
       "      <td>Garvita</td>\n",
       "      <td>1.0</td>\n",
       "      <td>1</td>\n",
       "    </tr>\n",
       "    <tr>\n",
       "      <td>2</td>\n",
       "      <td>gifbrles_031772</td>\n",
       "      <td>KirstieJane</td>\n",
       "      <td>1.0</td>\n",
       "      <td>1</td>\n",
       "    </tr>\n",
       "    <tr>\n",
       "      <td>3</td>\n",
       "      <td>gifbrles_031772</td>\n",
       "      <td>Regina Phalange</td>\n",
       "      <td>1.0</td>\n",
       "      <td>1</td>\n",
       "    </tr>\n",
       "    <tr>\n",
       "      <td>4</td>\n",
       "      <td>gifbrles_031772</td>\n",
       "      <td>Tlow</td>\n",
       "      <td>1.0</td>\n",
       "      <td>1</td>\n",
       "    </tr>\n",
       "  </tbody>\n",
       "</table>\n",
       "</div>"
      ],
      "text/plain": [
       "            sample             user  response  truth\n",
       "0  gifbrles_031772           Franky       1.0      1\n",
       "1  gifbrles_031772          Garvita       1.0      1\n",
       "2  gifbrles_031772      KirstieJane       1.0      1\n",
       "3  gifbrles_031772  Regina Phalange       1.0      1\n",
       "4  gifbrles_031772             Tlow       1.0      1"
      ]
     },
     "execution_count": 12,
     "metadata": {},
     "output_type": "execute_result"
    }
   ],
   "source": [
    "data_with_true_labels.head()"
   ]
  },
  {
   "cell_type": "code",
   "execution_count": 13,
   "metadata": {},
   "outputs": [
    {
     "name": "stdout",
     "output_type": "stream",
     "text": [
      "Positive sample size :  157\n",
      "Negative sample size :  68\n"
     ]
    }
   ],
   "source": [
    "positive_sample_size = len(labeled_data[labeled_data['truth'] == 1])\n",
    "negative_sample_size = len(labeled_data[labeled_data['truth'] == 0])\n",
    "\n",
    "print(\"Positive sample size : \", positive_sample_size)\n",
    "print(\"Negative sample size : \", negative_sample_size)"
   ]
  },
  {
   "cell_type": "markdown",
   "metadata": {},
   "source": [
    "### Maximum accuracy one can get by marking every image as positive/negative.\n",
    "\n",
    "Ideally we should not consider the votes of users who have accuracy below than this threshold accuracy."
   ]
  },
  {
   "cell_type": "code",
   "execution_count": 14,
   "metadata": {},
   "outputs": [
    {
     "data": {
      "text/plain": [
       "69.77777777777777"
      ]
     },
     "execution_count": 14,
     "metadata": {},
     "output_type": "execute_result"
    }
   ],
   "source": [
    "threshold_accuracy = (100.0* max(positive_sample_size, negative_sample_size)) / (positive_sample_size + negative_sample_size)\n",
    "threshold_accuracy"
   ]
  },
  {
   "cell_type": "markdown",
   "metadata": {},
   "source": [
    "## How accurate a particular user's reponses are?"
   ]
  },
  {
   "cell_type": "code",
   "execution_count": 15,
   "metadata": {},
   "outputs": [
    {
     "data": {
      "text/html": [
       "<div>\n",
       "<style scoped>\n",
       "    .dataframe tbody tr th:only-of-type {\n",
       "        vertical-align: middle;\n",
       "    }\n",
       "\n",
       "    .dataframe tbody tr th {\n",
       "        vertical-align: top;\n",
       "    }\n",
       "\n",
       "    .dataframe thead th {\n",
       "        text-align: right;\n",
       "    }\n",
       "</style>\n",
       "<table border=\"1\" class=\"dataframe\">\n",
       "  <thead>\n",
       "    <tr style=\"text-align: right;\">\n",
       "      <th></th>\n",
       "      <th>user</th>\n",
       "      <th>correct_swipes</th>\n",
       "      <th>total_swipes</th>\n",
       "      <th>accuracy_in_percent</th>\n",
       "    </tr>\n",
       "  </thead>\n",
       "  <tbody>\n",
       "    <tr>\n",
       "      <td>1</td>\n",
       "      <td>BrainDK</td>\n",
       "      <td>19</td>\n",
       "      <td>19</td>\n",
       "      <td>100.000000</td>\n",
       "    </tr>\n",
       "    <tr>\n",
       "      <td>10</td>\n",
       "      <td>Lindamilla</td>\n",
       "      <td>9</td>\n",
       "      <td>9</td>\n",
       "      <td>100.000000</td>\n",
       "    </tr>\n",
       "    <tr>\n",
       "      <td>9</td>\n",
       "      <td>Kkotake</td>\n",
       "      <td>1</td>\n",
       "      <td>1</td>\n",
       "      <td>100.000000</td>\n",
       "    </tr>\n",
       "    <tr>\n",
       "      <td>33</td>\n",
       "      <td>mikeb</td>\n",
       "      <td>22</td>\n",
       "      <td>23</td>\n",
       "      <td>95.652174</td>\n",
       "    </tr>\n",
       "    <tr>\n",
       "      <td>18</td>\n",
       "      <td>Tlow</td>\n",
       "      <td>73</td>\n",
       "      <td>77</td>\n",
       "      <td>94.805195</td>\n",
       "    </tr>\n",
       "    <tr>\n",
       "      <td>16</td>\n",
       "      <td>Tatiana</td>\n",
       "      <td>31</td>\n",
       "      <td>33</td>\n",
       "      <td>93.939394</td>\n",
       "    </tr>\n",
       "    <tr>\n",
       "      <td>6</td>\n",
       "      <td>Galothus</td>\n",
       "      <td>60</td>\n",
       "      <td>64</td>\n",
       "      <td>93.750000</td>\n",
       "    </tr>\n",
       "    <tr>\n",
       "      <td>21</td>\n",
       "      <td>akeshavan</td>\n",
       "      <td>73</td>\n",
       "      <td>79</td>\n",
       "      <td>92.405063</td>\n",
       "    </tr>\n",
       "    <tr>\n",
       "      <td>17</td>\n",
       "      <td>Tester12345</td>\n",
       "      <td>12</td>\n",
       "      <td>13</td>\n",
       "      <td>92.307692</td>\n",
       "    </tr>\n",
       "    <tr>\n",
       "      <td>45</td>\n",
       "      <td>zavalian</td>\n",
       "      <td>43</td>\n",
       "      <td>48</td>\n",
       "      <td>89.583333</td>\n",
       "    </tr>\n",
       "    <tr>\n",
       "      <td>40</td>\n",
       "      <td>sliew</td>\n",
       "      <td>150</td>\n",
       "      <td>168</td>\n",
       "      <td>89.285714</td>\n",
       "    </tr>\n",
       "    <tr>\n",
       "      <td>11</td>\n",
       "      <td>Linztogo</td>\n",
       "      <td>57</td>\n",
       "      <td>65</td>\n",
       "      <td>87.692308</td>\n",
       "    </tr>\n",
       "    <tr>\n",
       "      <td>25</td>\n",
       "      <td>bem85</td>\n",
       "      <td>20</td>\n",
       "      <td>23</td>\n",
       "      <td>86.956522</td>\n",
       "    </tr>\n",
       "    <tr>\n",
       "      <td>32</td>\n",
       "      <td>lohsek</td>\n",
       "      <td>57</td>\n",
       "      <td>66</td>\n",
       "      <td>86.363636</td>\n",
       "    </tr>\n",
       "    <tr>\n",
       "      <td>20</td>\n",
       "      <td>afranco</td>\n",
       "      <td>19</td>\n",
       "      <td>22</td>\n",
       "      <td>86.363636</td>\n",
       "    </tr>\n",
       "  </tbody>\n",
       "</table>\n",
       "</div>"
      ],
      "text/plain": [
       "           user  correct_swipes  total_swipes  accuracy_in_percent\n",
       "1       BrainDK              19            19           100.000000\n",
       "10   Lindamilla               9             9           100.000000\n",
       "9       Kkotake               1             1           100.000000\n",
       "33        mikeb              22            23            95.652174\n",
       "18         Tlow              73            77            94.805195\n",
       "16      Tatiana              31            33            93.939394\n",
       "6      Galothus              60            64            93.750000\n",
       "21    akeshavan              73            79            92.405063\n",
       "17  Tester12345              12            13            92.307692\n",
       "45     zavalian              43            48            89.583333\n",
       "40        sliew             150           168            89.285714\n",
       "11     Linztogo              57            65            87.692308\n",
       "25        bem85              20            23            86.956522\n",
       "32       lohsek              57            66            86.363636\n",
       "20      afranco              19            22            86.363636"
      ]
     },
     "execution_count": 15,
     "metadata": {},
     "output_type": "execute_result"
    }
   ],
   "source": [
    "is_pred_correct_df = data_with_true_labels.copy()\n",
    "is_pred_correct_df['is_correct'] = is_pred_correct_df.apply(lambda row: 1 if row['response'] == row['truth'] else 0, axis=1)\n",
    "accuracy_df = is_pred_correct_df.groupby(['user']).agg({'is_correct': ['sum', 'count']})\n",
    "\n",
    "levels = accuracy_df.columns.levels\n",
    "labels = accuracy_df.columns.codes\n",
    "accuracy_df.columns = levels[1][labels[1]]\n",
    "accuracy_df = accuracy_df.reset_index()\n",
    "accuracy_df = accuracy_df.rename(columns={'count':'total_swipes', 'sum': 'correct_swipes'})\n",
    "\n",
    "accuracy_df['accuracy_in_percent'] = (100.0*accuracy_df['correct_swipes'])/accuracy_df['total_swipes']\n",
    "accuracy_df = accuracy_df.sort_values(['accuracy_in_percent', 'total_swipes'], ascending=False)[['user', 'correct_swipes', 'total_swipes', 'accuracy_in_percent']]\n",
    "\n",
    "accuracy_df.head(n=15)"
   ]
  },
  {
   "cell_type": "code",
   "execution_count": null,
   "metadata": {},
   "outputs": [],
   "source": []
  }
 ],
 "metadata": {
  "kernelspec": {
   "display_name": "Python 3",
   "language": "python",
   "name": "python3"
  },
  "language_info": {
   "codemirror_mode": {
    "name": "ipython",
    "version": 3
   },
   "file_extension": ".py",
   "mimetype": "text/x-python",
   "name": "python",
   "nbconvert_exporter": "python",
   "pygments_lexer": "ipython3",
   "version": "3.7.1"
  }
 },
 "nbformat": 4,
 "nbformat_minor": 2
}
